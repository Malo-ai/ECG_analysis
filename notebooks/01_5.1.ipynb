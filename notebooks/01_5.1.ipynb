{
 "cells": [
  {
   "cell_type": "code",
   "execution_count": null,
   "id": "c7a019f9",
   "metadata": {},
   "outputs": [],
   "source": [
    "# Question à poser : est ce que le code de 01_4.1.ipynb aurait du apparaître automatiquement ? Comment faire ? Le 1er était propre, rien à ajouter."
   ]
  }
 ],
 "metadata": {
  "language_info": {
   "name": "python"
  }
 },
 "nbformat": 4,
 "nbformat_minor": 5
}
